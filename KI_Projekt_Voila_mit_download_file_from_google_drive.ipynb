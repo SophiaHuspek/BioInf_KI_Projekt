{
  "nbformat": 4,
  "nbformat_minor": 0,
  "metadata": {
    "colab": {
      "name": "KI_Projekt_Voila.ipynb",
      "provenance": [],
      "collapsed_sections": [],
      "toc_visible": true
    },
    "kernelspec": {
      "name": "python3",
      "display_name": "Python 3"
    },
    "language_info": {
      "name": "python"
    },
    "widgets": {
      "application/vnd.jupyter.widget-state+json": {
        "ac2aaac9ffe8481ba2681f05c79be715": {
          "model_module": "@jupyter-widgets/controls",
          "model_name": "VBoxModel",
          "state": {
            "_view_name": "VBoxView",
            "_dom_classes": [],
            "_model_name": "VBoxModel",
            "_view_module": "@jupyter-widgets/controls",
            "_model_module_version": "1.5.0",
            "_view_count": null,
            "_view_module_version": "1.5.0",
            "box_style": "",
            "layout": "IPY_MODEL_2a5c6de5a24e476abf91cb71e554437e",
            "_model_module": "@jupyter-widgets/controls",
            "children": [
              "IPY_MODEL_dd6721368a7a4074a5f7a51903754f6e",
              "IPY_MODEL_e10a9916e7014ed7929883998a7e7612",
              "IPY_MODEL_c896b3ae77d742449a533fccb7b37dfa",
              "IPY_MODEL_727b375532474703b16fce239aae9223",
              "IPY_MODEL_8aed8a70ecc94ffa81356adb6d90d75e"
            ]
          }
        },
        "2a5c6de5a24e476abf91cb71e554437e": {
          "model_module": "@jupyter-widgets/base",
          "model_name": "LayoutModel",
          "state": {
            "_view_name": "LayoutView",
            "grid_template_rows": null,
            "right": null,
            "justify_content": null,
            "_view_module": "@jupyter-widgets/base",
            "overflow": null,
            "_model_module_version": "1.2.0",
            "_view_count": null,
            "flex_flow": null,
            "width": null,
            "min_width": null,
            "border": null,
            "align_items": null,
            "bottom": null,
            "_model_module": "@jupyter-widgets/base",
            "top": null,
            "grid_column": null,
            "overflow_y": null,
            "overflow_x": null,
            "grid_auto_flow": null,
            "grid_area": null,
            "grid_template_columns": null,
            "flex": null,
            "_model_name": "LayoutModel",
            "justify_items": null,
            "grid_row": null,
            "max_height": null,
            "align_content": null,
            "visibility": null,
            "align_self": null,
            "height": null,
            "min_height": null,
            "padding": null,
            "grid_auto_rows": null,
            "grid_gap": null,
            "max_width": null,
            "order": null,
            "_view_module_version": "1.2.0",
            "grid_template_areas": null,
            "object_position": null,
            "object_fit": null,
            "grid_auto_columns": null,
            "margin": null,
            "display": null,
            "left": null
          }
        },
        "dd6721368a7a4074a5f7a51903754f6e": {
          "model_module": "@jupyter-widgets/controls",
          "model_name": "LabelModel",
          "state": {
            "_view_name": "LabelView",
            "style": "IPY_MODEL_e694967370e04293983f0e447b44bcc7",
            "_dom_classes": [],
            "description": "",
            "_model_name": "LabelModel",
            "placeholder": "​",
            "_view_module": "@jupyter-widgets/controls",
            "_model_module_version": "1.5.0",
            "value": "Wähle ein Röntgenbild!",
            "_view_count": null,
            "_view_module_version": "1.5.0",
            "description_tooltip": null,
            "_model_module": "@jupyter-widgets/controls",
            "layout": "IPY_MODEL_ec8377de2a454d9796867e14eb4d05d0"
          }
        },
        "e10a9916e7014ed7929883998a7e7612": {
          "model_module": "@jupyter-widgets/controls",
          "model_name": "FileUploadModel",
          "state": {
            "_view_name": "FileUploadView",
            "_counter": 1,
            "style": "IPY_MODEL_dcd2354cbfad419b8369978e7deacaba",
            "_dom_classes": [],
            "description": "Upload",
            "multiple": false,
            "_model_name": "FileUploadModel",
            "data": [
              null
            ],
            "button_style": "",
            "_view_module": "@jupyter-widgets/controls",
            "_model_module_version": "1.5.0",
            "accept": "",
            "_view_count": null,
            "disabled": false,
            "_view_module_version": "1.5.0",
            "error": "",
            "description_tooltip": null,
            "metadata": [
              {
                "name": "röntgenSchuler.jpg",
                "type": "image/jpeg",
                "size": 147386,
                "lastModified": 1616162630340
              }
            ],
            "_model_module": "@jupyter-widgets/controls",
            "layout": "IPY_MODEL_5b3920cd367f42439272b345c35cd4f7",
            "icon": "upload"
          }
        },
        "c896b3ae77d742449a533fccb7b37dfa": {
          "model_module": "@jupyter-widgets/controls",
          "model_name": "ButtonModel",
          "state": {
            "_view_name": "ButtonView",
            "style": "IPY_MODEL_52f26352ca58418b88c4ec7c21608f31",
            "_dom_classes": [],
            "description": "Classify",
            "_model_name": "ButtonModel",
            "button_style": "",
            "_view_module": "@jupyter-widgets/controls",
            "_model_module_version": "1.5.0",
            "tooltip": "",
            "_view_count": null,
            "disabled": false,
            "_view_module_version": "1.5.0",
            "layout": "IPY_MODEL_5a283066cffa4e3281d1bae80b847115",
            "_model_module": "@jupyter-widgets/controls",
            "icon": ""
          }
        },
        "727b375532474703b16fce239aae9223": {
          "model_module": "@jupyter-widgets/output",
          "model_name": "OutputModel",
          "state": {
            "_view_name": "OutputView",
            "msg_id": "",
            "_dom_classes": [],
            "_model_name": "OutputModel",
            "outputs": [
              {
                "output_type": "display_data",
                "metadata": {
                  "tags": []
                },
                "image/png": "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\n",
                "text/plain": "<PIL.Image.Image image mode=RGB size=128x105 at 0x7F730CCA3110>"
              }
            ],
            "_view_module": "@jupyter-widgets/output",
            "_model_module_version": "1.0.0",
            "_view_count": null,
            "_view_module_version": "1.0.0",
            "layout": "IPY_MODEL_ff0d8dd8a5e54bf794a2c7bb86848025",
            "_model_module": "@jupyter-widgets/output"
          }
        },
        "8aed8a70ecc94ffa81356adb6d90d75e": {
          "model_module": "@jupyter-widgets/controls",
          "model_name": "LabelModel",
          "state": {
            "_view_name": "LabelView",
            "style": "IPY_MODEL_7581bd3034bc43ce8d3f8dc107fe6a01",
            "_dom_classes": [],
            "description": "",
            "_model_name": "LabelModel",
            "placeholder": "​",
            "_view_module": "@jupyter-widgets/controls",
            "_model_module_version": "1.5.0",
            "value": "Prediction: schulter; Probability: 0.9807",
            "_view_count": null,
            "_view_module_version": "1.5.0",
            "description_tooltip": null,
            "_model_module": "@jupyter-widgets/controls",
            "layout": "IPY_MODEL_50ebbd6a6c344258bac94e0aac01a78d"
          }
        },
        "e694967370e04293983f0e447b44bcc7": {
          "model_module": "@jupyter-widgets/controls",
          "model_name": "DescriptionStyleModel",
          "state": {
            "_view_name": "StyleView",
            "_model_name": "DescriptionStyleModel",
            "description_width": "",
            "_view_module": "@jupyter-widgets/base",
            "_model_module_version": "1.5.0",
            "_view_count": null,
            "_view_module_version": "1.2.0",
            "_model_module": "@jupyter-widgets/controls"
          }
        },
        "ec8377de2a454d9796867e14eb4d05d0": {
          "model_module": "@jupyter-widgets/base",
          "model_name": "LayoutModel",
          "state": {
            "_view_name": "LayoutView",
            "grid_template_rows": null,
            "right": null,
            "justify_content": null,
            "_view_module": "@jupyter-widgets/base",
            "overflow": null,
            "_model_module_version": "1.2.0",
            "_view_count": null,
            "flex_flow": null,
            "width": null,
            "min_width": null,
            "border": null,
            "align_items": null,
            "bottom": null,
            "_model_module": "@jupyter-widgets/base",
            "top": null,
            "grid_column": null,
            "overflow_y": null,
            "overflow_x": null,
            "grid_auto_flow": null,
            "grid_area": null,
            "grid_template_columns": null,
            "flex": null,
            "_model_name": "LayoutModel",
            "justify_items": null,
            "grid_row": null,
            "max_height": null,
            "align_content": null,
            "visibility": null,
            "align_self": null,
            "height": null,
            "min_height": null,
            "padding": null,
            "grid_auto_rows": null,
            "grid_gap": null,
            "max_width": null,
            "order": null,
            "_view_module_version": "1.2.0",
            "grid_template_areas": null,
            "object_position": null,
            "object_fit": null,
            "grid_auto_columns": null,
            "margin": null,
            "display": null,
            "left": null
          }
        },
        "dcd2354cbfad419b8369978e7deacaba": {
          "model_module": "@jupyter-widgets/controls",
          "model_name": "ButtonStyleModel",
          "state": {
            "_view_name": "StyleView",
            "_model_name": "ButtonStyleModel",
            "_view_module": "@jupyter-widgets/base",
            "_model_module_version": "1.5.0",
            "_view_count": null,
            "button_color": null,
            "font_weight": "",
            "_view_module_version": "1.2.0",
            "_model_module": "@jupyter-widgets/controls"
          }
        },
        "5b3920cd367f42439272b345c35cd4f7": {
          "model_module": "@jupyter-widgets/base",
          "model_name": "LayoutModel",
          "state": {
            "_view_name": "LayoutView",
            "grid_template_rows": null,
            "right": null,
            "justify_content": null,
            "_view_module": "@jupyter-widgets/base",
            "overflow": null,
            "_model_module_version": "1.2.0",
            "_view_count": null,
            "flex_flow": null,
            "width": null,
            "min_width": null,
            "border": null,
            "align_items": null,
            "bottom": null,
            "_model_module": "@jupyter-widgets/base",
            "top": null,
            "grid_column": null,
            "overflow_y": null,
            "overflow_x": null,
            "grid_auto_flow": null,
            "grid_area": null,
            "grid_template_columns": null,
            "flex": null,
            "_model_name": "LayoutModel",
            "justify_items": null,
            "grid_row": null,
            "max_height": null,
            "align_content": null,
            "visibility": null,
            "align_self": null,
            "height": null,
            "min_height": null,
            "padding": null,
            "grid_auto_rows": null,
            "grid_gap": null,
            "max_width": null,
            "order": null,
            "_view_module_version": "1.2.0",
            "grid_template_areas": null,
            "object_position": null,
            "object_fit": null,
            "grid_auto_columns": null,
            "margin": null,
            "display": null,
            "left": null
          }
        },
        "52f26352ca58418b88c4ec7c21608f31": {
          "model_module": "@jupyter-widgets/controls",
          "model_name": "ButtonStyleModel",
          "state": {
            "_view_name": "StyleView",
            "_model_name": "ButtonStyleModel",
            "_view_module": "@jupyter-widgets/base",
            "_model_module_version": "1.5.0",
            "_view_count": null,
            "button_color": null,
            "font_weight": "",
            "_view_module_version": "1.2.0",
            "_model_module": "@jupyter-widgets/controls"
          }
        },
        "5a283066cffa4e3281d1bae80b847115": {
          "model_module": "@jupyter-widgets/base",
          "model_name": "LayoutModel",
          "state": {
            "_view_name": "LayoutView",
            "grid_template_rows": null,
            "right": null,
            "justify_content": null,
            "_view_module": "@jupyter-widgets/base",
            "overflow": null,
            "_model_module_version": "1.2.0",
            "_view_count": null,
            "flex_flow": null,
            "width": null,
            "min_width": null,
            "border": null,
            "align_items": null,
            "bottom": null,
            "_model_module": "@jupyter-widgets/base",
            "top": null,
            "grid_column": null,
            "overflow_y": null,
            "overflow_x": null,
            "grid_auto_flow": null,
            "grid_area": null,
            "grid_template_columns": null,
            "flex": null,
            "_model_name": "LayoutModel",
            "justify_items": null,
            "grid_row": null,
            "max_height": null,
            "align_content": null,
            "visibility": null,
            "align_self": null,
            "height": null,
            "min_height": null,
            "padding": null,
            "grid_auto_rows": null,
            "grid_gap": null,
            "max_width": null,
            "order": null,
            "_view_module_version": "1.2.0",
            "grid_template_areas": null,
            "object_position": null,
            "object_fit": null,
            "grid_auto_columns": null,
            "margin": null,
            "display": null,
            "left": null
          }
        },
        "7581bd3034bc43ce8d3f8dc107fe6a01": {
          "model_module": "@jupyter-widgets/controls",
          "model_name": "DescriptionStyleModel",
          "state": {
            "_view_name": "StyleView",
            "_model_name": "DescriptionStyleModel",
            "description_width": "",
            "_view_module": "@jupyter-widgets/base",
            "_model_module_version": "1.5.0",
            "_view_count": null,
            "_view_module_version": "1.2.0",
            "_model_module": "@jupyter-widgets/controls"
          }
        },
        "50ebbd6a6c344258bac94e0aac01a78d": {
          "model_module": "@jupyter-widgets/base",
          "model_name": "LayoutModel",
          "state": {
            "_view_name": "LayoutView",
            "grid_template_rows": null,
            "right": null,
            "justify_content": null,
            "_view_module": "@jupyter-widgets/base",
            "overflow": null,
            "_model_module_version": "1.2.0",
            "_view_count": null,
            "flex_flow": null,
            "width": null,
            "min_width": null,
            "border": null,
            "align_items": null,
            "bottom": null,
            "_model_module": "@jupyter-widgets/base",
            "top": null,
            "grid_column": null,
            "overflow_y": null,
            "overflow_x": null,
            "grid_auto_flow": null,
            "grid_area": null,
            "grid_template_columns": null,
            "flex": null,
            "_model_name": "LayoutModel",
            "justify_items": null,
            "grid_row": null,
            "max_height": null,
            "align_content": null,
            "visibility": null,
            "align_self": null,
            "height": null,
            "min_height": null,
            "padding": null,
            "grid_auto_rows": null,
            "grid_gap": null,
            "max_width": null,
            "order": null,
            "_view_module_version": "1.2.0",
            "grid_template_areas": null,
            "object_position": null,
            "object_fit": null,
            "grid_auto_columns": null,
            "margin": null,
            "display": null,
            "left": null
          }
        },
        "ff0d8dd8a5e54bf794a2c7bb86848025": {
          "model_module": "@jupyter-widgets/base",
          "model_name": "LayoutModel",
          "state": {
            "_view_name": "LayoutView",
            "grid_template_rows": null,
            "right": null,
            "justify_content": null,
            "_view_module": "@jupyter-widgets/base",
            "overflow": null,
            "_model_module_version": "1.2.0",
            "_view_count": null,
            "flex_flow": null,
            "width": null,
            "min_width": null,
            "border": null,
            "align_items": null,
            "bottom": null,
            "_model_module": "@jupyter-widgets/base",
            "top": null,
            "grid_column": null,
            "overflow_y": null,
            "overflow_x": null,
            "grid_auto_flow": null,
            "grid_area": null,
            "grid_template_columns": null,
            "flex": null,
            "_model_name": "LayoutModel",
            "justify_items": null,
            "grid_row": null,
            "max_height": null,
            "align_content": null,
            "visibility": null,
            "align_self": null,
            "height": null,
            "min_height": null,
            "padding": null,
            "grid_auto_rows": null,
            "grid_gap": null,
            "max_width": null,
            "order": null,
            "_view_module_version": "1.2.0",
            "grid_template_areas": null,
            "object_position": null,
            "object_fit": null,
            "grid_auto_columns": null,
            "margin": null,
            "display": null,
            "left": null
          }
        }
      }
    }
  },
  "cells": [
    {
      "cell_type": "markdown",
      "metadata": {
        "id": "1tYZZSpLOnI3"
      },
      "source": [
        "#Voila"
      ]
    },
    {
      "cell_type": "code",
      "metadata": {
        "id": "CGe5J66nPA8Y",
        "colab": {
          "base_uri": "https://localhost:8080/"
        },
        "outputId": "aa62fbf0-f156-42c4-868f-2d2626245aaf"
      },
      "source": [
        "#!pip install torchtext==0.8.1\n",
        "!pip install fastai --upgrade -q"
      ],
      "execution_count": 2,
      "outputs": [
        {
          "output_type": "stream",
          "text": [
            "\u001b[K     |████████████████████████████████| 194kB 5.5MB/s \n",
            "\u001b[K     |████████████████████████████████| 61kB 6.2MB/s \n",
            "\u001b[K     |████████████████████████████████| 776.8MB 22kB/s \n",
            "\u001b[K     |████████████████████████████████| 12.8MB 31.0MB/s \n",
            "\u001b[31mERROR: torchtext 0.9.1 has requirement torch==1.8.1, but you'll have torch 1.7.1 which is incompatible.\u001b[0m\n",
            "\u001b[?25h"
          ],
          "name": "stdout"
        }
      ]
    },
    {
      "cell_type": "code",
      "metadata": {
        "colab": {
          "base_uri": "https://localhost:8080/"
        },
        "id": "w5-2nz5EPZTA",
        "outputId": "7203d6fd-75a9-4f42-ba52-0dd4303fb8d5"
      },
      "source": [
        "import fastai\n",
        "print(fastai.__version__)"
      ],
      "execution_count": 17,
      "outputs": [
        {
          "output_type": "stream",
          "text": [
            "2.3.0\n"
          ],
          "name": "stdout"
        }
      ]
    },
    {
      "cell_type": "code",
      "metadata": {
        "id": "cD9U6YXKOk9V"
      },
      "source": [
        "from fastai.vision.all import*\n",
        "import ipywidgets as widgets\n",
        "import requests"
      ],
      "execution_count": 18,
      "outputs": []
    },
    {
      "cell_type": "code",
      "metadata": {
        "id": "FDxTrzsqQcB_"
      },
      "source": [
        "def download_file_from_google_drive(id, destination):\n",
        "    URL = \"https://docs.google.com/us?export=download\"\n",
        "    session = requests.Session()\n",
        "    response = session.get(URL, params = {'id':id}, stream = True)\n",
        "    token = get_confirm_token(response)\n",
        "    if token:\n",
        "        params = {'id':id, 'confirm':token}\n",
        "        response = session.get(URL, params = params, stream = True)\n",
        "    save_response_content(response, destination)\n",
        "\n",
        "def get_confirm_token(response):\n",
        "    for key, value in response.cookies.items():\n",
        "        if key.startswith('download_warning'):\n",
        "          return value\n",
        "    return None\n",
        "\n",
        "def save_response_content(response, destination):\n",
        "    CHUNK_SIZE = 32768\n",
        "    with open(destination, 'wb') as f:\n",
        "        for chunk in response.iter_content(CHUNK_SIZE):\n",
        "            if chunk:\n",
        "                f.write(chunk)"
      ],
      "execution_count": 19,
      "outputs": []
    },
    {
      "cell_type": "code",
      "metadata": {
        "id": "4S3Pz7ptQhXm"
      },
      "source": [
        "#https://drive.google.com/file/d/1--h3JK3IQjI7ZSx4pLkQn3a-tGhPzoNy/view?usp=sharing\n",
        "file_id = '1--h3JK3IQjI7ZSx4pLkQn3a-tGhPzoNy'\n",
        "destination = './sample_data/röntgenbilder_classifier.pkl'\n",
        "download_file_from_google_drive(file_id, destination)"
      ],
      "execution_count": 24,
      "outputs": []
    },
    {
      "cell_type": "markdown",
      "metadata": {
        "id": "bG51WJ1lQk2i"
      },
      "source": [
        "#Classifier zu Röntgenbilder\n",
        "\n",
        "\n",
        "*   Hand\n",
        "*   Fuß\n",
        "*   Thorax\n",
        "*   Schulter\n",
        "*   Knie\n"
      ]
    },
    {
      "cell_type": "code",
      "metadata": {
        "id": "6G9Q7kHtQq5r"
      },
      "source": [
        "#!cp /content/drive/MyDrive/röntgenbilder_images/röntgenbilder_classifier.pkl ./sample_data\n",
        "path = Path()\n",
        "#path.ls(file_exts='.pkl')\n",
        "\n",
        "inference = load_learner('sample_data/röntgenbilder_classifier.pkl')"
      ],
      "execution_count": 26,
      "outputs": []
    },
    {
      "cell_type": "code",
      "metadata": {
        "colab": {
          "base_uri": "https://localhost:8080/",
          "height": 250,
          "referenced_widgets": [
            "ac2aaac9ffe8481ba2681f05c79be715",
            "2a5c6de5a24e476abf91cb71e554437e",
            "dd6721368a7a4074a5f7a51903754f6e",
            "e10a9916e7014ed7929883998a7e7612",
            "c896b3ae77d742449a533fccb7b37dfa",
            "727b375532474703b16fce239aae9223",
            "8aed8a70ecc94ffa81356adb6d90d75e",
            "e694967370e04293983f0e447b44bcc7",
            "ec8377de2a454d9796867e14eb4d05d0",
            "dcd2354cbfad419b8369978e7deacaba",
            "5b3920cd367f42439272b345c35cd4f7",
            "52f26352ca58418b88c4ec7c21608f31",
            "5a283066cffa4e3281d1bae80b847115",
            "7581bd3034bc43ce8d3f8dc107fe6a01",
            "50ebbd6a6c344258bac94e0aac01a78d",
            "ff0d8dd8a5e54bf794a2c7bb86848025"
          ]
        },
        "id": "Atv9AOquQuvw",
        "outputId": "8996544c-07ed-4f55-d9a0-9d7ee472a3aa"
      },
      "source": [
        "btn_upload = widgets.FileUpload()\n",
        "lbl_pred = widgets.Label()\n",
        "btn_run = widgets.Button(description = 'Classify')\n",
        "out_p1 = widgets.Output()\n",
        "def on_click_classify(change):\n",
        "    img = PILImage.create(btn_upload.data[-1])\n",
        "    out_p1.clear_output()\n",
        "    with out_p1: display(img.to_thumb(128,128))\n",
        "    pred, pred_idx, probs = inference.predict(img)\n",
        "    lbl_pred.value = f'Prediction: {pred}; Probability: {probs[pred_idx]:.04f}'\n",
        "\n",
        "btn_run.on_click(on_click_classify)\n",
        "widgets.VBox([widgets.Label('Wähle ein Röntgenbild!'),\n",
        "             btn_upload, btn_run, out_p1, lbl_pred])"
      ],
      "execution_count": 27,
      "outputs": [
        {
          "output_type": "display_data",
          "data": {
            "application/vnd.jupyter.widget-view+json": {
              "model_id": "ac2aaac9ffe8481ba2681f05c79be715",
              "version_minor": 0,
              "version_major": 2
            },
            "text/plain": [
              "VBox(children=(Label(value='Wähle ein Röntgenbild!'), FileUpload(value={}, description='Upload'), Button(descr…"
            ]
          },
          "metadata": {
            "tags": []
          }
        },
        {
          "output_type": "display_data",
          "data": {
            "text/html": [
              ""
            ],
            "text/plain": [
              "<IPython.core.display.HTML object>"
            ]
          },
          "metadata": {
            "tags": []
          }
        },
        {
          "output_type": "display_data",
          "data": {
            "text/html": [
              ""
            ],
            "text/plain": [
              "<IPython.core.display.HTML object>"
            ]
          },
          "metadata": {
            "tags": []
          }
        }
      ]
    }
  ]
}